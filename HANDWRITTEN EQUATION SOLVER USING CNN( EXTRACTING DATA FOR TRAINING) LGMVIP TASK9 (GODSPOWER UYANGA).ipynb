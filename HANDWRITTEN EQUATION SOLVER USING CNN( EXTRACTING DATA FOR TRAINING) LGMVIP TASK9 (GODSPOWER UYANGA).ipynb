{
  "cells": [
    {
      "cell_type": "markdown",
      "id": "f977281d",
      "metadata": {
        "id": "f977281d"
      },
      "source": [
        "# **HANDWRITTEN EQUATION SOLVER USING CNN**\n",
        "\n",
        "**EXECUTED BY GODSPOWER UYANGA**\n",
        "\n",
        "#### **Dataset link** : https://www.kaggle.com/xainano/handwrittenmathsymbols\n"
      ]
    },
    {
      "cell_type": "markdown",
      "source": [
        "# **PROBLEM STATEMENT**\n",
        "**Mathematical equation solver using character and symbol recognition using image processing and CNN.**"
      ],
      "metadata": {
        "id": "UkpJrvxORy84"
      },
      "id": "UkpJrvxORy84"
    },
    {
      "cell_type": "markdown",
      "source": [
        "### **IMPORTING IMPORTANT DEPENDENCIES**"
      ],
      "metadata": {
        "id": "dggTytUmTUI8"
      },
      "id": "dggTytUmTUI8"
    },
    {
      "cell_type": "code",
      "execution_count": null,
      "id": "2ab2a282",
      "metadata": {
        "id": "2ab2a282"
      },
      "outputs": [],
      "source": [
        "import numpy as np\n",
        "import cv2\n",
        "from PIL import Image\n",
        "from matplotlib import pyplot as plt\n",
        "%matplotlib inline\n",
        "import os\n",
        "from os import listdir\n",
        "from os.path import isfile, join\n",
        "import pandas as pd"
      ]
    },
    {
      "cell_type": "code",
      "execution_count": null,
      "id": "16ee99eb",
      "metadata": {
        "id": "16ee99eb"
      },
      "outputs": [],
      "source": [
        "def load_images_from_folder(folder):\n",
        "    train_data=[]\n",
        "    for filename in os.listdir(folder):\n",
        "        img = cv2.imread(os.path.join(folder,filename),cv2.IMREAD_GRAYSCALE)\n",
        "        img=~img\n",
        "        if img is not None:\n",
        "            ret,thresh=cv2.threshold(img,127,255,cv2.THRESH_BINARY)\n",
        "\n",
        "            ctrs,ret=cv2.findContours(thresh,cv2.RETR_EXTERNAL,cv2.CHAIN_APPROX_NONE)\n",
        "            cnt=sorted(ctrs, key=lambda ctr: cv2.boundingRect(ctr)[0])\n",
        "            w=int(28)\n",
        "            h=int(28)\n",
        "            maxi=0\n",
        "            for c in cnt:\n",
        "                x,y,w,h=cv2.boundingRect(c)\n",
        "                maxi=max(w*h,maxi)\n",
        "                if maxi==w*h:\n",
        "                    x_max=x\n",
        "                    y_max=y\n",
        "                    w_max=w\n",
        "                    h_max=h\n",
        "            im_crop= thresh[y_max:y_max+h_max+10, x_max:x_max+w_max+10]\n",
        "            im_resize = cv2.resize(im_crop,(28,28))\n",
        "            im_resize=np.reshape(im_resize,(784,1))\n",
        "            train_data.append(im_resize)\n",
        "    return train_data"
      ]
    },
    {
      "cell_type": "code",
      "execution_count": null,
      "id": "e63a311b",
      "metadata": {
        "id": "e63a311b"
      },
      "outputs": [],
      "source": [
        "data=[]"
      ]
    },
    {
      "cell_type": "markdown",
      "source": [
        "### **DATA EXTRACTION**"
      ],
      "metadata": {
        "id": "QiYz3wamTrCc"
      },
      "id": "QiYz3wamTrCc"
    },
    {
      "cell_type": "code",
      "execution_count": null,
      "id": "1992b312",
      "metadata": {
        "id": "1992b312",
        "outputId": "4f8f46af-c058-4177-9b2a-5541f7814842"
      },
      "outputs": [
        {
          "name": "stdout",
          "output_type": "stream",
          "text": [
            "33997\n"
          ]
        }
      ],
      "source": [
        "# Assign '-' = 10\n",
        "data=load_images_from_folder('F://Drive//LetsGrowMore//extracted_images//data//extracted_images//-//')\n",
        "len(data)\n",
        "for i in range(0,len(data)):\n",
        "    data[i]=np.append(data[i],['10'])\n",
        "    \n",
        "print(len(data))"
      ]
    },
    {
      "cell_type": "markdown",
      "source": [
        "## **FIRST EXTRACTION**"
      ],
      "metadata": {
        "id": "6vhSZVUSVCVr"
      },
      "id": "6vhSZVUSVCVr"
    },
    {
      "cell_type": "code",
      "execution_count": null,
      "id": "3db9546c",
      "metadata": {
        "id": "3db9546c",
        "outputId": "fb939a45-ea31-467e-fc26-5a58c1af5a0e"
      },
      "outputs": [
        {
          "name": "stdout",
          "output_type": "stream",
          "text": [
            "59109\n"
          ]
        }
      ],
      "source": [
        "# Assign + = 11\n",
        "data_extracted=load_images_from_folder('F://Drive//LetsGrowMore//extracted_images//data//extracted_images//+//')\n",
        "\n",
        "for i in range(0,len(data11)):\n",
        "    data_extracted[i]=np.append(data11[i],['11'])\n",
        "data=np.concatenate((data,data_extracted))\n",
        "print(len(data))"
      ]
    },
    {
      "cell_type": "markdown",
      "source": [
        "## **SECOND EXTRACTION**"
      ],
      "metadata": {
        "id": "hADQBtD3VLU_"
      },
      "id": "hADQBtD3VLU_"
    },
    {
      "cell_type": "code",
      "execution_count": null,
      "id": "135c201c",
      "metadata": {
        "id": "135c201c",
        "outputId": "fc3d78be-ec75-4f70-a6d3-83cc5fc97d58"
      },
      "outputs": [
        {
          "name": "stdout",
          "output_type": "stream",
          "text": [
            "66023\n"
          ]
        }
      ],
      "source": [
        "data_extracted1=load_images_from_folder('F://Drive//LetsGrowMore//extracted_images//data//extracted_images//0//')\n",
        "\n",
        "for i in range(0,len(data_extracted1)):\n",
        "    data_extracted1[i]=np.append(data0[i],['0'])\n",
        "data=np.concatenate((data,data_extracted1))\n",
        "print(len(data))"
      ]
    },
    {
      "cell_type": "markdown",
      "source": [
        "### **THIRD EXTRACTION**"
      ],
      "metadata": {
        "id": "Ey74EAP5U1ny"
      },
      "id": "Ey74EAP5U1ny"
    },
    {
      "cell_type": "code",
      "execution_count": null,
      "id": "e434cb31",
      "metadata": {
        "id": "e434cb31",
        "outputId": "80e5dadc-60dc-4ae0-abaa-3243b5900da0"
      },
      "outputs": [
        {
          "name": "stdout",
          "output_type": "stream",
          "text": [
            "92543\n"
          ]
        }
      ],
      "source": [
        "data_extracted2=load_images_from_folder('F://Drive//LetsGrowMore//extracted_images//data//extracted_images//1//')\n",
        "\n",
        "for i in range(0,len(data1)):\n",
        "    data_extracted2[i]=np.append(data_extracted2[i],['1'])\n",
        "data=np.concatenate((data,data_extracted2))\n",
        "print(len(data))"
      ]
    },
    {
      "cell_type": "code",
      "execution_count": null,
      "id": "ea6622cf",
      "metadata": {
        "id": "ea6622cf",
        "outputId": "826e3e6d-913e-4114-89be-79f41aa245a4"
      },
      "outputs": [
        {
          "name": "stdout",
          "output_type": "stream",
          "text": [
            "118684\n"
          ]
        }
      ],
      "source": [
        "data_extracted=load_images_from_folder('F://Drive//LetsGrowMore//extracted_images//data//extracted_images//2//')\n",
        "\n",
        "for i in range(0,len(data2)):\n",
        "    data2[i]=np.append(data2[i],['2'])\n",
        "data=np.concatenate((data,data2))\n",
        "print(len(data))"
      ]
    },
    {
      "cell_type": "markdown",
      "source": [
        "### **FOURTH EXTRACTION**"
      ],
      "metadata": {
        "id": "XiTqXW2uWUis"
      },
      "id": "XiTqXW2uWUis"
    },
    {
      "cell_type": "code",
      "execution_count": null,
      "id": "cfaee1a6",
      "metadata": {
        "id": "cfaee1a6",
        "outputId": "5887f204-24cc-40b1-d0a6-dd4e11eb59be"
      },
      "outputs": [
        {
          "name": "stdout",
          "output_type": "stream",
          "text": [
            "129593\n"
          ]
        }
      ],
      "source": [
        "data_extraction3=load_images_from_folder('F://Drive//LetsGrowMore//extracted_images//data//extracted_images//3//')\n",
        "\n",
        "for i in range(0,len(data_extraction3)):\n",
        "    data3[i]=np.append(data_extraction3[i],['3'])\n",
        "data=np.concatenate((data,data_extraction3))\n",
        "print(len(data))"
      ]
    },
    {
      "cell_type": "markdown",
      "source": [
        "### **FIFTH EXTRACTION**"
      ],
      "metadata": {
        "id": "oIfj4hLEWq-M"
      },
      "id": "oIfj4hLEWq-M"
    },
    {
      "cell_type": "code",
      "execution_count": null,
      "id": "fbf2c56e",
      "metadata": {
        "id": "fbf2c56e",
        "outputId": "2ae2ec7b-f8ec-41c9-d0df-05f2529a9b9e"
      },
      "outputs": [
        {
          "name": "stdout",
          "output_type": "stream",
          "text": [
            "136989\n"
          ]
        }
      ],
      "source": [
        "data4=load_images_from_folder('F://Drive//LetsGrowMore//extracted_images//data//extracted_images//4//')\n",
        "\n",
        "for i in range(0,len(data_extraction4)):\n",
        "    data_extraction4[i]=np.append(data4[i],['4'])\n",
        "data=np.concatenate((data,data_extraction4))\n",
        "print(len(data))"
      ]
    },
    {
      "cell_type": "markdown",
      "source": [
        "### **SIXTH EXTRACTION**"
      ],
      "metadata": {
        "id": "jK_pPFkHW_a9"
      },
      "id": "jK_pPFkHW_a9"
    },
    {
      "cell_type": "code",
      "execution_count": null,
      "id": "e3bbd794",
      "metadata": {
        "id": "e3bbd794",
        "outputId": "a4c623da-c8b0-4a72-9c0f-c7b40ac0440d"
      },
      "outputs": [
        {
          "name": "stdout",
          "output_type": "stream",
          "text": [
            "140534\n"
          ]
        }
      ],
      "source": [
        "data_extracted5=load_images_from_folder('F://Drive//LetsGrowMore//extracted_images//data//extracted_images//5//')\n",
        "\n",
        "for i in range(0,len(data_extracted5)):\n",
        "    data5[i]=np.append(data_extracted5[i],['5'])\n",
        "data=np.concatenate((data,data_extracted5))\n",
        "print(len(data))"
      ]
    },
    {
      "cell_type": "markdown",
      "source": [
        "### **SEVENTH EXTRACTION**"
      ],
      "metadata": {
        "id": "cynmTHeVXbFr"
      },
      "id": "cynmTHeVXbFr"
    },
    {
      "cell_type": "code",
      "execution_count": null,
      "id": "bc175e96",
      "metadata": {
        "id": "bc175e96",
        "outputId": "f0c2e88a-4153-4445-b609-68b94e4e35d4"
      },
      "outputs": [
        {
          "name": "stdout",
          "output_type": "stream",
          "text": [
            "143652\n"
          ]
        }
      ],
      "source": [
        "data_extracted6=load_images_from_folder('F://Drive//LetsGrowMore//extracted_images//data//extracted_images//6//')\n",
        "\n",
        "for i in range(0,len(data_extracted6)):\n",
        "    data_extracted6[i]=np.append(data_extracted6[i],['6'])\n",
        "data=np.concatenate((data,data_extracted6))\n",
        "print(len(data))"
      ]
    },
    {
      "cell_type": "markdown",
      "source": [
        "### **EIGTH EXTRACTION**"
      ],
      "metadata": {
        "id": "mv4Bt0vaXwL-"
      },
      "id": "mv4Bt0vaXwL-"
    },
    {
      "cell_type": "code",
      "execution_count": null,
      "id": "e4e6ac89",
      "metadata": {
        "id": "e4e6ac89",
        "outputId": "9bde0765-fc70-4916-f03f-86a2c289dddb"
      },
      "outputs": [
        {
          "name": "stdout",
          "output_type": "stream",
          "text": [
            "146561\n"
          ]
        }
      ],
      "source": [
        "data_extracted7=load_images_from_folder('F://Drive//LetsGrowMore//extracted_images//data//extracted_images//7//')\n",
        "\n",
        "for i in range(0,len(data_extracted7)):\n",
        "    data_extracted7[i]=np.append(data7[i],['7'])\n",
        "data=np.concatenate((data,data_extracted7))\n",
        "print(len(data))"
      ]
    },
    {
      "cell_type": "markdown",
      "source": [
        "### **NINETH EXTRACTION**"
      ],
      "metadata": {
        "id": "q_nA5z0qYQ6w"
      },
      "id": "q_nA5z0qYQ6w"
    },
    {
      "cell_type": "code",
      "execution_count": null,
      "id": "a924f56f",
      "metadata": {
        "id": "a924f56f",
        "outputId": "017cdc34-2ba2-4c71-afbc-1efea8736a62"
      },
      "outputs": [
        {
          "name": "stdout",
          "output_type": "stream",
          "text": [
            "149629\n"
          ]
        }
      ],
      "source": [
        "data_extracted8=load_images_from_folder('F://Drive//Lets Grow More//extracted_images//data//extracted_images//8//')\n",
        "\n",
        "for i in range(0,len(data8)):\n",
        "    data_extracted8[i]=np.append(data8[i],['8'])\n",
        "data=np.concatenate((data,data_extracted8))\n",
        "print(len(data))"
      ]
    },
    {
      "cell_type": "markdown",
      "source": [
        "### **TENTH EXTRACTION**"
      ],
      "metadata": {
        "id": "l1xaCwp1Yhgd"
      },
      "id": "l1xaCwp1Yhgd"
    },
    {
      "cell_type": "code",
      "execution_count": null,
      "id": "437483bc",
      "metadata": {
        "id": "437483bc",
        "outputId": "f398dd14-e618-4af6-a74c-111fb70ae2e3"
      },
      "outputs": [
        {
          "name": "stdout",
          "output_type": "stream",
          "text": [
            "153366\n"
          ]
        }
      ],
      "source": [
        "data_extracted9=load_images_from_folder('F://Drive//LetsGrowMore//extracted_images//data//extracted_images//9//')\n",
        "\n",
        "for i in range(0,len(data_extracted9)):\n",
        "    data_extracted9[i]=np.append(data_extracted9[i],['9'])\n",
        "data=np.concatenate((data,data_extracted9))\n",
        "print(len(data))"
      ]
    },
    {
      "cell_type": "markdown",
      "source": [
        "### **ELEVENTH EXTRACTION**"
      ],
      "metadata": {
        "id": "Yj9x56jbY31u"
      },
      "id": "Yj9x56jbY31u"
    },
    {
      "cell_type": "code",
      "execution_count": null,
      "id": "921fa29a",
      "metadata": {
        "id": "921fa29a"
      },
      "outputs": [],
      "source": [
        "data_extracted12=load_images_from_folder('F://Drive//LetsGrowMore//extracted_images//times//')\n",
        "\n",
        "for i in range(0,len(data_extracted12)):\n",
        "    data_extracted12[i]=np.append(data_extracted12[i],['12'])\n",
        "data=np.concatenate((data,data_extracted12))\n",
        "print(len(data))"
      ]
    },
    {
      "cell_type": "code",
      "execution_count": null,
      "id": "26c93a12",
      "metadata": {
        "id": "26c93a12"
      },
      "outputs": [],
      "source": [
        "extracted_data=pd.DataFrame(data,index=None)\n",
        "extracted_data.to_csv('train_final.csv',index=False)"
      ]
    },
    {
      "cell_type": "markdown",
      "id": "efa25040",
      "metadata": {
        "id": "efa25040"
      },
      "source": [
        "**We Have Finished Extracting Our Data And We Need To Use The New Extracted Data For Model Training And Further Analysis In Our Next Notebook So We Dont Make The NoteBook File Too Large**"
      ]
    }
  ],
  "metadata": {
    "kernelspec": {
      "display_name": "Python 3",
      "language": "python",
      "name": "python3"
    },
    "language_info": {
      "codemirror_mode": {
        "name": "ipython",
        "version": 3
      },
      "file_extension": ".py",
      "mimetype": "text/x-python",
      "name": "python",
      "nbconvert_exporter": "python",
      "pygments_lexer": "ipython3",
      "version": "3.8.8"
    },
    "colab": {
      "provenance": []
    }
  },
  "nbformat": 4,
  "nbformat_minor": 5
}